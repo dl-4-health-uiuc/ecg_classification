{
 "cells": [
  {
   "cell_type": "code",
   "execution_count": 26,
   "metadata": {},
   "outputs": [],
   "source": [
    "import pandas as pd\n",
    "import numpy as np\n",
    "import torch\n",
    "import torch.nn as nn\n",
    "import torch.nn.functional as F\n",
    "from sklearn.metrics import f1_score, accuracy_score, confusion_matrix, multilabel_confusion_matrix\n",
    "import models\n",
    "import process_data\n",
    "import analysis"
   ]
  },
  {
   "cell_type": "code",
   "execution_count": 2,
   "metadata": {},
   "outputs": [],
   "source": [
    "#setup\n",
    "BATCH_SIZE = 200\n",
    "LEARNING_RATE = 0.0005\n",
    "NUM_EPOCHS = 25\n",
    "\n",
    "device = torch.device('cuda:0' if torch.cuda.is_available() else 'cpu')\n",
    "device_count = torch.cuda.device_count()\n"
   ]
  },
  {
   "cell_type": "code",
   "execution_count": 3,
   "metadata": {},
   "outputs": [],
   "source": [
    "train_loader, val_loader = process_data.load_data(batch_size=BATCH_SIZE)"
   ]
  },
  {
   "cell_type": "code",
   "execution_count": 4,
   "metadata": {},
   "outputs": [],
   "source": [
    "cnetmodel = models.get_model(\"cnet\")"
   ]
  },
  {
   "cell_type": "code",
   "execution_count": 5,
   "metadata": {},
   "outputs": [],
   "source": [
    "criterion = nn.CrossEntropyLoss()\n",
    "optimizer = torch.optim.Adam(cnetmodel.parameters(), lr=LEARNING_RATE)\n"
   ]
  },
  {
   "cell_type": "code",
   "execution_count": 44,
   "metadata": {},
   "outputs": [],
   "source": [
    "def accuracy_per_class(mcm, clsnum):\n",
    "    return (mcm[clsnum][0][0] + mcm[clsnum][1][1]) / (mcm[clsnum][0][0] + mcm[clsnum][0][1] + mcm[clsnum][1][0] + mcm[clsnum][1][1])\n",
    "\n",
    "def sensitivity_per_class(mcm, clsnum):\n",
    "    return mcm[clsnum][0][0] / (mcm[clsnum][0][0] + mcm[clsnum][1][0])\n",
    "\n",
    "def specificity_per_class(mcm, clsnum):\n",
    "    return mcm[clsnum][1][1] / (mcm[clsnum][1][1] + mcm[clsnum][0][1])\n",
    "\n",
    "def pos_pred_val_per_class(mcm, clsnum):\n",
    "    return mcm[clsnum][0][0] / (mcm[clsnum][0][0] + mcm[clsnum][0][1])\n",
    "\n",
    "def neg_pred_val_per_class(mcm, clsnum):\n",
    "    return mcm[clsnum][1][1] / (mcm[clsnum][1][1] + mcm[clsnum][1][0])\n",
    "\n",
    "def stat_per_class(mcm):\n",
    "    out = []\n",
    "    for clsnum in range(5):\n",
    "         out.append((accuracy_per_class(mcm, clsnum), sensitivity_per_class(mcm, clsnum), specificity_per_class(mcm, clsnum), \\\n",
    "            pos_pred_val_per_class(mcm, clsnum), neg_pred_val_per_class(mcm, clsnum)))\n",
    "    return out\n",
    "\n",
    "def avg_stats(mcm):\n",
    "    avg_acc = 0\n",
    "    avg_sens = 0\n",
    "    avg_spec = 0\n",
    "    avg_pos_pred = 0\n",
    "    avg_neg_pred = 0\n",
    "    for clsnum in range(5):\n",
    "        avg_acc += accuracy_per_class(mcm, clsnum)/5\n",
    "        avg_sens += sensitivity_per_class(mcm, clsnum)/5\n",
    "        avg_spec += specificity_per_class(mcm, clsnum)/5\n",
    "        avg_pos_pred += pos_pred_val_per_class(mcm, clsnum)/5\n",
    "        avg_neg_pred += neg_pred_val_per_class(mcm, clsnum)/5\n",
    "    return avg_acc, avg_sens, avg_spec, avg_pos_pred, avg_neg_pred\n",
    "\n",
    "def eval(model, val_loader):\n",
    "    model.eval()\n",
    "    with torch.no_grad():\n",
    "        val_loss = 0\n",
    "        y_pred = []\n",
    "        y_true = []\n",
    "        for x, y in val_loader:\n",
    "            x=x.to(device).reshape(-1, 1, 187).float()\n",
    "            y = y.to(device).long()\n",
    "            y_hat = model(x)\n",
    "            val_loss += criterion(y_hat, y).item()\n",
    "            y_hat = F.softmax(y_hat, dim=1)\n",
    "            y_hat = torch.argmax(y_hat, dim=1)\n",
    "            y_pred.extend(y_hat.cpu().numpy())\n",
    "            y_true.extend(y.long().cpu().numpy())\n",
    "        \n",
    "        val_loss = val_loss / len(val_loader)\n",
    "        f = f1_score(y_pred=y_pred, y_true=y_true, average='macro')\n",
    "        acc = accuracy_score(y_pred=y_pred, y_true=y_true)\n",
    "        cm = confusion_matrix(y_true, y_pred)\n",
    "        mcm = multilabel_confusion_matrix(y_pred, y_true) # input is inverted to get expected output\n",
    "    return f, acc, cm, mcm, stat_per_class(mcm), avg_stats(mcm)\n"
   ]
  },
  {
   "cell_type": "code",
   "execution_count": 45,
   "metadata": {},
   "outputs": [],
   "source": [
    "def train(model, train_loader, val_loader, n_epochs):\n",
    "    model.train()\n",
    "    for epoch in range(n_epochs):\n",
    "        train_loss = 0\n",
    "        i=0\n",
    "        for x, y in train_loader:\n",
    "            x=x.to(device).reshape(-1, 1, 187).float()\n",
    "            y = y.to(device).long()\n",
    "            y_hat = model(x)\n",
    "            loss = criterion(y_hat, y)\n",
    "            optimizer.zero_grad()\n",
    "            loss.backward()\n",
    "            optimizer.step()\n",
    "            train_loss += loss.item()\n",
    "        train_loss = train_loss / len(train_loader)\n",
    "        print('Epoch: {} \\t Training Loss: {:.6f}'.format(epoch+1, train_loss))\n",
    "        f, acc, cm, mcm, stats, avgstats = eval(model, val_loader)\n",
    "        print('Epoch: %d \\t Validation f: %.2f, acc: %.2f'%(epoch+1, f, acc))\n",
    "        print('Confusion matrix')\n",
    "        print(cm)\n",
    "        print(mcm)\n",
    "        print('Accuracy, Sensitivity, Specificity, Positive Pred Value, Negative Pred Value')\n",
    "        print('class 1 :', stats[0])\n",
    "        print('class 2 :', stats[1])\n",
    "        print('class 3 :', stats[2])\n",
    "        print('class 4 :', stats[3])\n",
    "        print('class 5 :', stats[4])\n",
    "        print('avg metrics :', avgstats)\n"
   ]
  },
  {
   "cell_type": "code",
   "execution_count": 46,
   "metadata": {},
   "outputs": [
    {
     "name": "stdout",
     "output_type": "stream",
     "text": [
      "Epoch: 1 \t Training Loss: 0.045329\n",
      "Epoch: 1 \t Validation f: 0.90, acc: 0.98\n",
      "Confusion matrix\n",
      "[[18015    78    19     2     4]\n",
      " [  129   416     9     1     1]\n",
      " [   52     9  1369    12     6]\n",
      " [   35     0    15   112     0]\n",
      " [   20     0     4     0  1584]]\n",
      "[[[ 3538   103]\n",
      "  [  236 18015]]\n",
      "\n",
      " [[21249   140]\n",
      "  [   87   416]]\n",
      "\n",
      " [[20397    79]\n",
      "  [   47  1369]]\n",
      "\n",
      " [[21715    50]\n",
      "  [   15   112]]\n",
      "\n",
      " [[20273    24]\n",
      "  [   11  1584]]]\n",
      "Accuracy, Sensitivity, Specificity, Positive Pred Value, Negative Pred Value\n",
      "class 1 : (0.9845148912844874, 0.9374668786433492, 0.9943150458107959, 0.9717110683878055, 0.9870692016875787)\n",
      "class 2 : (0.989630915402887, 0.9959223847019123, 0.7482014388489209, 0.9934545794567301, 0.827037773359841)\n",
      "class 3 : (0.9942444728668006, 0.9977010369790648, 0.9454419889502762, 0.9961418245751124, 0.9668079096045198)\n",
      "class 4 : (0.9970308788598575, 0.9993097100782329, 0.691358024691358, 0.9977027337468413, 0.8818897637795275)\n",
      "class 5 : (0.9984012424630002, 0.9994577006507592, 0.9850746268656716, 0.9988175592452087, 0.993103448275862)\n",
      "avg metrics : (0.9927644801754065, 0.9859715422106636, 0.8728782250334046, 0.9915655530823396, 0.9311816193414658)\n"
     ]
    }
   ],
   "source": [
    "train(cnetmodel, train_loader, val_loader, 1) # NUM_EPOCHS\n"
   ]
  },
  {
   "cell_type": "code",
   "execution_count": null,
   "metadata": {},
   "outputs": [],
   "source": [
    "embeds,y = analysis.get_embeddings(cnetmodel, train_loader)\n",
    "coordinates = analysis.get_embeddings(embeds)\n",
    "analysis.plot_tsne(coordinates, y, 5)"
   ]
  }
 ],
 "metadata": {
  "kernelspec": {
   "display_name": "Python 3",
   "language": "python",
   "name": "python3"
  },
  "language_info": {
   "codemirror_mode": {
    "name": "ipython",
    "version": 3
   },
   "file_extension": ".py",
   "mimetype": "text/x-python",
   "name": "python",
   "nbconvert_exporter": "python",
   "pygments_lexer": "ipython3",
   "version": "3.8.5"
  }
 },
 "nbformat": 4,
 "nbformat_minor": 4
}
