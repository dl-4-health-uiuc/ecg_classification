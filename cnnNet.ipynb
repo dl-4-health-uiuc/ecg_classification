{
 "cells": [
  {
   "cell_type": "code",
   "execution_count": 6,
   "metadata": {},
   "outputs": [],
   "source": [
    "import pandas as pd\n",
    "import numpy as np\n",
    "import torch\n",
    "import torch.nn as nn\n",
    "import torch.nn.functional as F\n",
    "from torch.utils.data import Dataset\n",
    "from torch.utils.data import DataLoader\n",
    "from sklearn.metrics import f1_score, accuracy_score\n"
   ]
  },
  {
   "cell_type": "code",
   "execution_count": 7,
   "metadata": {},
   "outputs": [],
   "source": [
    "df_train = pd.read_csv(\"input/mitbih_train.csv\", header=None)\n",
    "df_train = df_train.sample(frac=1)\n",
    "df_test = pd.read_csv(\"input/mitbih_test.csv\", header=None)\n",
    "\n",
    "Y = np.array(df_train[187].values)\n",
    "X = np.array(df_train[list(range(187))].values)[..., np.newaxis]\n",
    "\n",
    "Y_test = np.array(df_test[187].values)\n",
    "X_test = np.array(df_test[list(range(187))].values)[..., np.newaxis]\n"
   ]
  },
  {
   "cell_type": "code",
   "execution_count": 8,
   "metadata": {},
   "outputs": [],
   "source": [
    "BATCH_SIZE = 128\n",
    "NUM_RESIDUAL_BLOCKS = 5\n"
   ]
  },
  {
   "cell_type": "code",
   "execution_count": 9,
   "metadata": {},
   "outputs": [],
   "source": [
    "class CustomDataset(Dataset):\n",
    "    \n",
    "    def __init__(self, x, y):\n",
    "        self.x = x\n",
    "        self.y = y\n",
    "\n",
    "    def __len__(self):\n",
    "        return len(self.y)\n",
    "\n",
    "    def __getitem__(self, index):\n",
    "        return torch.tensor(self.x[index], dtype=torch.double), torch.tensor(self.y[index])\n",
    "\n",
    "train_dataset = CustomDataset(X, Y)\n",
    "val_dataset = CustomDataset(X_test, Y_test)\n",
    "\n",
    "def load_data(train_dataset, val_dataset):\n",
    "\n",
    "    train_loader = DataLoader(train_dataset, batch_size=BATCH_SIZE, shuffle=True)\n",
    "    val_loader = DataLoader(val_dataset, batch_size=BATCH_SIZE)\n",
    "    \n",
    "    return train_loader, val_loader\n",
    "\n",
    "train_loader, val_loader = load_data(train_dataset, val_dataset)\n"
   ]
  },
  {
   "cell_type": "code",
   "execution_count": 65,
   "metadata": {},
   "outputs": [],
   "source": [
    "device = torch.device('cuda:0' if torch.cuda.is_available() else 'cpu')\n",
    "device_count = torch.cuda.device_count()\n",
    "# device = 'cpu'"
   ]
  },
  {
   "cell_type": "code",
   "execution_count": 104,
   "metadata": {},
   "outputs": [],
   "source": [
    "class CNResidual(nn.Module):\n",
    "    def __init__(self, size):\n",
    "        super().__init__()\n",
    "        # layers\n",
    "        self.c1 = nn.Conv1d(size, size, kernel_size=5, padding=2)\n",
    "        self.c2 = nn.Conv1d(size, size, kernel_size=5, padding=2)\n",
    "        self.pool = nn.MaxPool1d(kernel_size=5, stride=2)\n",
    "        \n",
    "    def forward(self, x):\n",
    "        # call layers\n",
    "        x1 = F.relu(self.c1(x))\n",
    "        x1 = self.c2(x1)\n",
    "        return self.pool(F.relu(x+x1))\n",
    "    \n",
    "class CNet(nn.Module):\n",
    "\n",
    "    def __init__(self):\n",
    "        super().__init__()\n",
    "        # layers\n",
    "        self.c1 = nn.Conv1d(1, 32, kernel_size=5, padding=2)\n",
    "        self.cresid1 = CNResidual(32)\n",
    "        self.cresid2 = CNResidual(32)\n",
    "        self.cresid3 = CNResidual(32)\n",
    "        self.cresid4 = CNResidual(32)\n",
    "        self.cresid5 = CNResidual(32)\n",
    "#         self.cresids = []\n",
    "#         for i in range(NUM_RESIDUAL_BLOCKS):\n",
    "#             self.cresids.append(CNResidual(32).to(device))\n",
    "        self.fc1 = nn.Linear(64, 32)\n",
    "        self.fc2 = nn.Linear(32, 5)\n",
    "        \n",
    "    def forward(self, x):\n",
    "        # call layers\n",
    "        x = self.c1(x)\n",
    "        x = self.cresid1(x)\n",
    "        x = self.cresid2(x)\n",
    "        x = self.cresid3(x)\n",
    "        x = self.cresid4(x)\n",
    "        x = self.cresid5(x)\n",
    "#         for cresid in self.cresids:\n",
    "#             x = cresid(x)\n",
    "        x  = x.reshape(-1, 64)\n",
    "        x = F.relu(self.fc1(x))\n",
    "        return F.softmax(self.fc2(x), dim=1)\n",
    "\n",
    "cnetmodel = CNet()\n",
    "# if device_count > 1:\n",
    "#     cnetmodel = nn.DataParallel(cnetmodel)\n",
    "cnetmodel = cnetmodel.to(device)"
   ]
  },
  {
   "cell_type": "code",
   "execution_count": 105,
   "metadata": {},
   "outputs": [],
   "source": [
    "criterion = nn.CrossEntropyLoss()\n",
    "optimizer = torch.optim.Adam(cnetmodel.parameters(), lr=1e-1)\n"
   ]
  },
  {
   "cell_type": "code",
   "execution_count": 106,
   "metadata": {},
   "outputs": [],
   "source": [
    "def eval(model, val_loader):\n",
    "    model.eval()\n",
    "\n",
    "    x_pred = []\n",
    "    x_true = []\n",
    "    i = 0\n",
    "    for x, y in val_loader:\n",
    "        x=x.to(device).reshape(-1, 1, 187).float()\n",
    "        x_hat = model(x)\n",
    "        x_hat = torch.argmax(x_hat, dim=1)\n",
    "        x_pred.extend(x_hat.cpu().numpy())\n",
    "        x_true.extend(y.long().detach().numpy())\n",
    "    f = f1_score(y_pred=x_pred, y_true=x_true, average='micro')\n",
    "    acc = accuracy_score(y_pred=x_pred, y_true=x_true)\n",
    "    return f, acc\n"
   ]
  },
  {
   "cell_type": "code",
   "execution_count": 107,
   "metadata": {},
   "outputs": [],
   "source": [
    "def train(model, train_loader, val_loader, n_epochs):\n",
    "    model.train()\n",
    "    for epoch in range(n_epochs):\n",
    "        train_loss = 0\n",
    "        i=0\n",
    "        for x, y in train_loader:\n",
    "            x=x.to(device).reshape(-1, 1, 187).float()\n",
    "            y = y.to(device).long()\n",
    "            x_hat = model(x)\n",
    "            loss = criterion(x_hat, y)\n",
    "            optimizer.zero_grad()\n",
    "            loss.backward()\n",
    "            optimizer.step()\n",
    "            train_loss += loss.item()\n",
    "        train_loss = train_loss / len(train_loader)\n",
    "        print('Epoch: {} \\t Training Loss: {:.6f}'.format(epoch+1, train_loss))\n",
    "        f, acc = eval(model, val_loader)\n",
    "        print('Epoch: %d \\t Validation f: %.2f, acc: %.2f'%(epoch+1, f, acc))"
   ]
  },
  {
   "cell_type": "code",
   "execution_count": 108,
   "metadata": {},
   "outputs": [
    {
     "name": "stdout",
     "output_type": "stream",
     "text": [
      "Epoch: 1 \t Training Loss: 1.077601\n",
      "Epoch: 1 \t Validation f: 0.83, acc: 0.83\n",
      "Epoch: 2 \t Training Loss: 1.077574\n",
      "Epoch: 2 \t Validation f: 0.83, acc: 0.83\n"
     ]
    }
   ],
   "source": [
    "train(cnetmodel, train_loader, val_loader,2 )\n"
   ]
  },
  {
   "cell_type": "code",
   "execution_count": 60,
   "metadata": {},
   "outputs": [],
   "source": [
    "x, y =next(iter(train_loader))\n",
    "x=x.reshape(-1, 1, 187).float()"
   ]
  },
  {
   "cell_type": "code",
   "execution_count": 61,
   "metadata": {},
   "outputs": [
    {
     "data": {
      "text/plain": [
       "tensor([0, 0, 0, 0, 0, 0, 4, 0, 0, 0, 0, 0, 1, 0, 0, 0, 0, 4, 0, 0, 0, 2, 0, 2,\n",
       "        0, 4, 0, 0, 0, 0, 0, 0, 0, 0, 0, 0, 0, 0, 0, 0, 0, 0, 0, 0, 1, 0, 0, 0,\n",
       "        0, 1, 2, 0, 0, 4, 0, 0, 0, 0, 0, 0, 0, 0, 0, 4, 0, 0, 0, 0, 0, 0, 0, 0,\n",
       "        0, 1, 0, 4, 0, 0, 0, 0, 2, 0, 0, 0, 0, 0, 4, 0, 0, 0, 0, 0, 0, 0, 0, 0,\n",
       "        0, 0, 0, 0, 2, 0, 0, 0, 2, 0, 0, 0, 0, 0, 0, 0, 0, 0, 4, 0, 0, 0, 0, 0,\n",
       "        0, 0, 0, 1, 0, 0, 0, 0])"
      ]
     },
     "execution_count": 61,
     "metadata": {},
     "output_type": "execute_result"
    }
   ],
   "source": [
    "y.long()"
   ]
  },
  {
   "cell_type": "code",
   "execution_count": 63,
   "metadata": {},
   "outputs": [
    {
     "data": {
      "text/plain": [
       "tensor([0, 0, 0, 0, 0, 0, 0, 0, 0, 0, 0, 0, 0, 0, 0, 0, 0, 0, 0, 0, 0, 0, 0, 0,\n",
       "        0, 0, 0, 0, 0, 0, 0, 0, 0, 0, 0, 0, 0, 0, 0, 0, 0, 0, 0, 0, 0, 0, 0, 0,\n",
       "        0, 0, 0, 0, 0, 0, 0, 0, 0, 0, 0, 0, 0, 0, 0, 0, 0, 0, 0, 0, 0, 0, 0, 0,\n",
       "        0, 0, 0, 0, 0, 0, 0, 0, 0, 0, 0, 0, 0, 0, 0, 0, 0, 0, 0, 0, 0, 0, 0, 0,\n",
       "        0, 0, 0, 0, 0, 0, 0, 0, 0, 0, 0, 0, 0, 0, 0, 0, 0, 0, 0, 0, 0, 0, 0, 0,\n",
       "        0, 0, 0, 0, 0, 0, 0, 0])"
      ]
     },
     "execution_count": 63,
     "metadata": {},
     "output_type": "execute_result"
    }
   ],
   "source": [
    "x_hat = cnetmodel(x)\n",
    "torch.argmax(x_hat, dim=1)"
   ]
  },
  {
   "cell_type": "code",
   "execution_count": 72,
   "metadata": {},
   "outputs": [
    {
     "data": {
      "text/plain": [
       "CNet(\n",
       "  (c1): Conv1d(1, 32, kernel_size=(5,), stride=(1,), padding=(2,))\n",
       "  (cresid1): CNResidual(\n",
       "    (c1): Conv1d(32, 32, kernel_size=(5,), stride=(1,), padding=(2,))\n",
       "    (c2): Conv1d(32, 32, kernel_size=(5,), stride=(1,), padding=(2,))\n",
       "    (pool): MaxPool1d(kernel_size=5, stride=2, padding=0, dilation=1, ceil_mode=False)\n",
       "  )\n",
       "  (cresid2): CNResidual(\n",
       "    (c1): Conv1d(32, 32, kernel_size=(5,), stride=(1,), padding=(2,))\n",
       "    (c2): Conv1d(32, 32, kernel_size=(5,), stride=(1,), padding=(2,))\n",
       "    (pool): MaxPool1d(kernel_size=5, stride=2, padding=0, dilation=1, ceil_mode=False)\n",
       "  )\n",
       "  (cresid3): CNResidual(\n",
       "    (c1): Conv1d(32, 32, kernel_size=(5,), stride=(1,), padding=(2,))\n",
       "    (c2): Conv1d(32, 32, kernel_size=(5,), stride=(1,), padding=(2,))\n",
       "    (pool): MaxPool1d(kernel_size=5, stride=2, padding=0, dilation=1, ceil_mode=False)\n",
       "  )\n",
       "  (cresid4): CNResidual(\n",
       "    (c1): Conv1d(32, 32, kernel_size=(5,), stride=(1,), padding=(2,))\n",
       "    (c2): Conv1d(32, 32, kernel_size=(5,), stride=(1,), padding=(2,))\n",
       "    (pool): MaxPool1d(kernel_size=5, stride=2, padding=0, dilation=1, ceil_mode=False)\n",
       "  )\n",
       "  (cresid5): CNResidual(\n",
       "    (c1): Conv1d(32, 32, kernel_size=(5,), stride=(1,), padding=(2,))\n",
       "    (c2): Conv1d(32, 32, kernel_size=(5,), stride=(1,), padding=(2,))\n",
       "    (pool): MaxPool1d(kernel_size=5, stride=2, padding=0, dilation=1, ceil_mode=False)\n",
       "  )\n",
       "  (fc1): Linear(in_features=64, out_features=32, bias=True)\n",
       "  (fc2): Linear(in_features=32, out_features=5, bias=True)\n",
       ")"
      ]
     },
     "execution_count": 72,
     "metadata": {},
     "output_type": "execute_result"
    }
   ],
   "source": [
    "cnetmodel"
   ]
  },
  {
   "cell_type": "code",
   "execution_count": null,
   "metadata": {},
   "outputs": [],
   "source": []
  }
 ],
 "metadata": {
  "kernelspec": {
   "display_name": "Python 3",
   "language": "python",
   "name": "python3"
  },
  "language_info": {
   "codemirror_mode": {
    "name": "ipython",
    "version": 3
   },
   "file_extension": ".py",
   "mimetype": "text/x-python",
   "name": "python",
   "nbconvert_exporter": "python",
   "pygments_lexer": "ipython3",
   "version": "3.8.5"
  }
 },
 "nbformat": 4,
 "nbformat_minor": 4
}
