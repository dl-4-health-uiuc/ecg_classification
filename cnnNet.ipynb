{
 "cells": [
  {
   "cell_type": "code",
   "execution_count": 1,
   "metadata": {},
   "outputs": [],
   "source": [
    "import pandas as pd\n",
    "import numpy as np\n",
    "import torch\n",
    "import torch.nn as nn\n",
    "import torch.nn.functional as F\n",
    "from sklearn.metrics import f1_score, accuracy_score, confusion_matrix, multilabel_confusion_matrix\n",
    "import models\n",
    "import process_data\n",
    "import analysis\n",
    "import train_ecg\n",
    "import seaborn as sn\n",
    "import matplotlib.pyplot as plt\n",
    "%matplotlib inline\n"
   ]
  },
  {
   "cell_type": "code",
   "execution_count": 2,
   "metadata": {},
   "outputs": [],
   "source": [
    "#setup\n",
    "BATCH_SIZE = 256\n",
    "LEARNING_RATE = 0.0005\n",
    "NUM_EPOCHS = 25\n",
    "\n",
    "device = torch.device('cuda' if torch.cuda.is_available() else 'cpu')\n",
    "device_count = torch.cuda.device_count()\n"
   ]
  },
  {
   "cell_type": "code",
   "execution_count": 3,
   "metadata": {},
   "outputs": [
    {
     "name": "stdout",
     "output_type": "stream",
     "text": [
      "Wall time: 3.03 s\n"
     ]
    }
   ],
   "source": [
    "%%time\n",
    "train_loader, val_loader = process_data.load_data(batch_size=BATCH_SIZE, smote=False)"
   ]
  },
  {
   "cell_type": "code",
   "execution_count": null,
   "metadata": {},
   "outputs": [],
   "source": []
  },
  {
   "cell_type": "code",
   "execution_count": 4,
   "metadata": {},
   "outputs": [],
   "source": [
    "# Confusion matrix\n",
    "def confusion_matrix(cm, y_true):\n",
    "    df_cm = pd.DataFrame(cm, columns=np.unique(y_true), index = np.unique(y_true))\n",
    "    df_cm.index.name = 'Actual'\n",
    "    df_cm.columns.name = 'Predicted'\n",
    "    plt.figure(figsize = (10,7))\n",
    "    sn.set(font_scale=1.4)#for label size\n",
    "    sn.heatmap(df_cm, cmap=\"Blues\", annot=True,annot_kws={\"size\": 16})# font size\n"
   ]
  },
  {
   "cell_type": "code",
   "execution_count": null,
   "metadata": {},
   "outputs": [],
   "source": [
    "embeds,y = analysis.get_embeddings(cnetmodel, train_loader)\n",
    "coordinates = analysis.get_embeddings(embeds)\n",
    "analysis.plot_tsne(coordinates, y, 5)"
   ]
  },
  {
   "cell_type": "code",
   "execution_count": 1,
   "metadata": {},
   "outputs": [],
   "source": [
    "# BiRNN model"
   ]
  },
  {
   "cell_type": "code",
   "execution_count": 23,
   "metadata": {},
   "outputs": [],
   "source": [
    "from torch.nn.init import xavier_uniform_\n",
    "\n",
    "class BiRNN(nn.Module):\n",
    "    def __init__(self, is_lstm=True):\n",
    "        super().__init__()\n",
    "        self.dropout = nn.Dropout(0.2)\n",
    "        self.encoder = nn.LSTM(input_size=187, hidden_size=128, bidirectional=True, dropout=0.1, num_layers=2)\n",
    "        if not is_lstm:\n",
    "            self.encoder = nn.GRU(input_size=187, hidden_size=128, bidirectional=True, dropout=0.1, num_layers=2)\n",
    "        self.fc1 = nn.Linear(128, 64)\n",
    "        self.fc2 = nn.Linear(64, 5)\n",
    "        \n",
    "    def forward(self, x):\n",
    "        x = x.reshape(-1, 1, 187)\n",
    "        output, _ = self.encoder(x)\n",
    "        biout = output[:,:,:128] + output[:,:,128:]\n",
    "        biout = biout.reshape(-1, 128)\n",
    "        o = F.relu(self.fc1(biout))\n",
    "        o = self.fc2(o)\n",
    "        return o\n",
    "\n",
    "model = BiRNN(is_lstm=False).to(device)\n",
    "criterion = nn.CrossEntropyLoss()\n"
   ]
  },
  {
   "cell_type": "code",
   "execution_count": 26,
   "metadata": {},
   "outputs": [
    {
     "name": "stdout",
     "output_type": "stream",
     "text": [
      "Epoch: 1 \t Training Loss: 0.061097\n",
      "Epoch: 1 \t Validation f: 0.87, acc: 0.98\n",
      "avg metrics : (0.9901333820573726, 0.9783698365517565, 0.8281589045391291, 0.9904720831166658, 0.9198749767857477)\n",
      "Epoch: 2 \t Training Loss: 0.058867\n",
      "Epoch: 2 \t Validation f: 0.87, acc: 0.98\n",
      "avg metrics : (0.9901516535720811, 0.9792041000758418, 0.8311011378955507, 0.9898212954822292, 0.9143048808194328)\n",
      "Epoch: 3 \t Training Loss: 0.058106\n",
      "Epoch: 3 \t Validation f: 0.87, acc: 0.98\n",
      "avg metrics : (0.9903343687191669, 0.9784727937601734, 0.8236345760003836, 0.9909983690502882, 0.9251635852596362)\n",
      "Epoch: 4 \t Training Loss: 0.059459\n",
      "Epoch: 4 \t Validation f: 0.87, acc: 0.98\n",
      "avg metrics : (0.9904439978074183, 0.9795282524830764, 0.827738085333138, 0.9903937209512372, 0.924252964974566)\n",
      "Epoch: 5 \t Training Loss: 0.057119\n",
      "Epoch: 5 \t Validation f: 0.87, acc: 0.98\n",
      "avg metrics : (0.9905718984103783, 0.9787712554820763, 0.8289853433244405, 0.991262750857723, 0.9351672358998273)\n",
      "Epoch: 6 \t Training Loss: 0.056240\n",
      "Epoch: 6 \t Validation f: 0.87, acc: 0.98\n",
      "avg metrics : (0.9905536268956697, 0.9785939609408059, 0.8294473841851409, 0.9914808588393007, 0.9265481882396043)\n",
      "Epoch: 7 \t Training Loss: 0.055389\n",
      "Epoch: 7 \t Validation f: 0.87, acc: 0.98\n",
      "avg metrics : (0.990370911748584, 0.9795834237588085, 0.834058417308087, 0.9899437795751045, 0.9157865091088576)\n",
      "Epoch: 8 \t Training Loss: 0.054373\n",
      "Epoch: 8 \t Validation f: 0.87, acc: 0.98\n",
      "avg metrics : (0.9903160972044582, 0.9796816790276963, 0.829911357248211, 0.9896516423117657, 0.9186471785409787)\n",
      "Epoch: 9 \t Training Loss: 0.054441\n",
      "Epoch: 9 \t Validation f: 0.88, acc: 0.98\n",
      "avg metrics : (0.9908094281015897, 0.9802477712488546, 0.8435183772598631, 0.9908250604812685, 0.9202816415068411)\n",
      "Epoch: 10 \t Training Loss: 0.053991\n",
      "Epoch: 10 \t Validation f: 0.88, acc: 0.98\n",
      "avg metrics : (0.9905353553809612, 0.9793658489359391, 0.8392438504651659, 0.990610640140312, 0.9219901842249215)\n",
      "Epoch: 11 \t Training Loss: 0.053045\n",
      "Epoch: 11 \t Validation f: 0.88, acc: 0.98\n",
      "avg metrics : (0.9906449844692126, 0.9801195393225914, 0.8420368221692196, 0.9901911033822471, 0.9171486703705536)\n",
      "Epoch: 12 \t Training Loss: 0.057289\n",
      "Epoch: 12 \t Validation f: 0.87, acc: 0.98\n",
      "avg metrics : (0.990370911748584, 0.9805894855171741, 0.8459402872461285, 0.988946772316933, 0.9069780600030986)\n",
      "Epoch: 13 \t Training Loss: 0.055655\n",
      "Epoch: 13 \t Validation f: 0.88, acc: 0.98\n",
      "avg metrics : (0.9908459711310068, 0.9807873460536962, 0.84415863306636, 0.9904064371316084, 0.920751531251319)\n",
      "Epoch: 14 \t Training Loss: 0.051316\n",
      "Epoch: 14 \t Validation f: 0.88, acc: 0.98\n",
      "avg metrics : (0.9906449844692126, 0.9799952227539542, 0.8445838268821159, 0.9905451915270103, 0.9133064367009978)\n",
      "Epoch: 15 \t Training Loss: 0.050705\n",
      "Epoch: 15 \t Validation f: 0.88, acc: 0.98\n",
      "avg metrics : (0.9909373287045496, 0.9808771033860058, 0.844395268054714, 0.9907300402041892, 0.920074691740259)\n",
      "Epoch: 16 \t Training Loss: 0.050518\n",
      "Epoch: 16 \t Validation f: 0.88, acc: 0.98\n",
      "avg metrics : (0.9910104147633839, 0.9803531193306992, 0.839682200100457, 0.991114440620794, 0.9291035554601852)\n",
      "Epoch: 17 \t Training Loss: 0.050097\n",
      "Epoch: 17 \t Validation f: 0.87, acc: 0.98\n",
      "avg metrics : (0.9908825141604239, 0.9794594811441713, 0.8330232341607954, 0.9918140472582404, 0.9282133009926274)\n",
      "Epoch: 18 \t Training Loss: 0.049314\n",
      "Epoch: 18 \t Validation f: 0.88, acc: 0.98\n",
      "avg metrics : (0.9910835008222182, 0.9806038165375073, 0.8430201668982893, 0.9913450171612521, 0.9315049001034741)\n",
      "Epoch: 19 \t Training Loss: 0.049283\n",
      "Epoch: 19 \t Validation f: 0.88, acc: 0.98\n",
      "avg metrics : (0.9910652293075096, 0.9818584236463832, 0.8516726125905645, 0.9902880647532162, 0.9149596630873074)\n",
      "Epoch: 20 \t Training Loss: 0.048983\n",
      "Epoch: 20 \t Validation f: 0.88, acc: 0.98\n",
      "avg metrics : (0.9911565868810525, 0.9819046366651958, 0.8554635436236078, 0.9902473076353311, 0.9188642629603743)\n"
     ]
    }
   ],
   "source": [
    "optimizer = torch.optim.Adam(model.parameters(), lr=0.0001)\n",
    "train_ecg.train(model, train_loader, val_loader, 20, criterion, optimizer)"
   ]
  },
  {
   "cell_type": "code",
   "execution_count": 22,
   "metadata": {},
   "outputs": [],
   "source": [
    "import scikitplot as skplt\n"
   ]
  },
  {
   "cell_type": "code",
   "execution_count": null,
   "metadata": {},
   "outputs": [],
   "source": []
  },
  {
   "cell_type": "code",
   "execution_count": null,
   "metadata": {},
   "outputs": [],
   "source": []
  }
 ],
 "metadata": {
  "kernelspec": {
   "display_name": "Python 3",
   "language": "python",
   "name": "python3"
  },
  "language_info": {
   "codemirror_mode": {
    "name": "ipython",
    "version": 3
   },
   "file_extension": ".py",
   "mimetype": "text/x-python",
   "name": "python",
   "nbconvert_exporter": "python",
   "pygments_lexer": "ipython3",
   "version": "3.8.5"
  }
 },
 "nbformat": 4,
 "nbformat_minor": 4
}
