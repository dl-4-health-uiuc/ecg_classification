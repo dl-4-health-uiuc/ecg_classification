{
 "cells": [
  {
   "cell_type": "code",
   "execution_count": 1,
   "metadata": {},
   "outputs": [],
   "source": [
    "import pandas as pd\n",
    "import numpy as np\n",
    "import torch\n",
    "import torch.nn as nn\n",
    "import torch.nn.functional as F\n",
    "from sklearn.metrics import f1_score, accuracy_score, confusion_matrix, multilabel_confusion_matrix\n",
    "import models\n",
    "import process_data\n",
    "import analysis\n",
    "import train_ecg"
   ]
  },
  {
   "cell_type": "code",
   "execution_count": 2,
   "metadata": {},
   "outputs": [],
   "source": [
    "#setup\n",
    "BATCH_SIZE = 200\n",
    "LEARNING_RATE = 0.0005\n",
    "NUM_EPOCHS = 25\n",
    "\n",
    "device = torch.device('cuda' if torch.cuda.is_available() else 'cpu')\n",
    "device_count = torch.cuda.device_count()\n"
   ]
  },
  {
   "cell_type": "code",
   "execution_count": 3,
   "metadata": {},
   "outputs": [
    {
     "name": "stdout",
     "output_type": "stream",
     "text": [
      "Wall time: 3.04 s\n"
     ]
    }
   ],
   "source": [
    "%%time\n",
    "train_loader, val_loader = process_data.load_data(batch_size=BATCH_SIZE, smote=False)"
   ]
  },
  {
   "cell_type": "code",
   "execution_count": 4,
   "metadata": {},
   "outputs": [],
   "source": [
    "cnetmodel = models.get_model(\"cnet\")"
   ]
  },
  {
   "cell_type": "code",
   "execution_count": 5,
   "metadata": {},
   "outputs": [],
   "source": [
    "criterion = nn.CrossEntropyLoss()\n",
    "optimizer = torch.optim.Adam(cnetmodel.parameters(), lr=LEARNING_RATE)\n"
   ]
  },
  {
   "cell_type": "code",
   "execution_count": 7,
   "metadata": {},
   "outputs": [
    {
     "name": "stdout",
     "output_type": "stream",
     "text": [
      "Epoch: 1 \t Training Loss: 0.057002\n",
      "Epoch: 1 \t Validation f: 0.89, acc: 0.98\n",
      "avg metrics : (0.9911565868810525, 0.984872677613226, 0.8696610954759754, 0.987749033696337, 0.9060472073452317)\n",
      "Epoch: 2 \t Training Loss: 0.053403\n",
      "Epoch: 2 \t Validation f: 0.88, acc: 0.98\n",
      "avg metrics : (0.9910835008222181, 0.97900100716877, 0.8322706212643871, 0.9930388901297145, 0.9383292636459662)\n",
      "Epoch: 3 \t Training Loss: 0.050273\n",
      "Epoch: 3 \t Validation f: 0.90, acc: 0.98\n",
      "avg metrics : (0.9928192947195322, 0.9853892291265087, 0.882135564440274, 0.9924553041194935, 0.9263271957354815)\n",
      "Epoch: 4 \t Training Loss: 0.048493\n",
      "Epoch: 4 \t Validation f: 0.88, acc: 0.98\n",
      "avg metrics : (0.9919057189841038, 0.9809527344949853, 0.831307209328918, 0.9935905739036774, 0.9454676122465447)\n",
      "Epoch: 5 \t Training Loss: 0.045803\n",
      "Epoch: 5 \t Validation f: 0.91, acc: 0.98\n",
      "avg metrics : (0.9935318837931664, 0.9874957642623157, 0.8979794176088594, 0.9927485968704679, 0.9302041227133517)\n",
      "Epoch: 6 \t Training Loss: 0.043885\n",
      "Epoch: 6 \t Validation f: 0.91, acc: 0.98\n",
      "avg metrics : (0.9934222547049151, 0.9846606115960785, 0.8805504249610789, 0.9947995005990583, 0.9495935821198667)\n",
      "Epoch: 7 \t Training Loss: 0.042025\n",
      "Epoch: 7 \t Validation f: 0.90, acc: 0.98\n",
      "avg metrics : (0.992234606248858, 0.984486104589571, 0.8821734842423631, 0.9909737227520978, 0.9197646111694798)\n",
      "Epoch: 8 \t Training Loss: 0.040571\n",
      "Epoch: 8 \t Validation f: 0.90, acc: 0.98\n",
      "avg metrics : (0.9935684268225835, 0.9856058199859168, 0.879072965539906, 0.9947586114853926, 0.9397566612062751)\n",
      "Epoch: 9 \t Training Loss: 0.037034\n",
      "Epoch: 9 \t Validation f: 0.89, acc: 0.98\n",
      "avg metrics : (0.9914672026310981, 0.9888364929202121, 0.8881889079184928, 0.985729937577889, 0.8955649157033473)\n",
      "Epoch: 10 \t Training Loss: 0.036307\n",
      "Epoch: 10 \t Validation f: 0.90, acc: 0.98\n",
      "avg metrics : (0.9932760825872464, 0.9875532493916621, 0.866446401953199, 0.9920733239175505, 0.9536420646177859)\n",
      "Epoch: 11 \t Training Loss: 0.035686\n",
      "Epoch: 11 \t Validation f: 0.91, acc: 0.98\n",
      "avg metrics : (0.9933308971313722, 0.9882542695472258, 0.8915044460186661, 0.9918830046058356, 0.9257863428005958)\n",
      "Epoch: 12 \t Training Loss: 0.032543\n",
      "Epoch: 12 \t Validation f: 0.91, acc: 0.99\n",
      "avg metrics : (0.9940800292344236, 0.9884737268151622, 0.8803144958775703, 0.9937173910547411, 0.9505583814620366)\n",
      "Epoch: 13 \t Training Loss: 0.032719\n",
      "Epoch: 13 \t Validation f: 0.92, acc: 0.98\n",
      "avg metrics : (0.9939886716608807, 0.9878666268533185, 0.9041509762539005, 0.9936909529036358, 0.9379736758258016)\n",
      "Epoch: 14 \t Training Loss: 0.030056\n",
      "Epoch: 14 \t Validation f: 0.92, acc: 0.98\n",
      "avg metrics : (0.9937876849990864, 0.9893359287048975, 0.9063937471699597, 0.9915867724921424, 0.9267196873183287)\n",
      "Epoch: 15 \t Training Loss: 0.029487\n",
      "Epoch: 15 \t Validation f: 0.90, acc: 0.98\n",
      "avg metrics : (0.9934953407637492, 0.9881169400746471, 0.8711203526912554, 0.9921053188520729, 0.9474472475790253)\n",
      "Epoch: 16 \t Training Loss: 0.028391\n",
      "Epoch: 16 \t Validation f: 0.92, acc: 0.99\n",
      "avg metrics : (0.994317558925635, 0.9891195124157427, 0.901595701832023, 0.9936762687286337, 0.9404057694057161)\n",
      "Epoch: 17 \t Training Loss: 0.026995\n",
      "Epoch: 17 \t Validation f: 0.91, acc: 0.98\n",
      "avg metrics : (0.9927644801754065, 0.9896118975432083, 0.8924833883487683, 0.9885667568679585, 0.925144295098225)\n",
      "Epoch: 18 \t Training Loss: 0.025788\n",
      "Epoch: 18 \t Validation f: 0.91, acc: 0.98\n",
      "avg metrics : (0.9935866983372921, 0.9880974985227269, 0.8945129859784853, 0.9920462873541541, 0.9330091930891757)\n",
      "Epoch: 19 \t Training Loss: 0.024435\n",
      "Epoch: 19 \t Validation f: 0.92, acc: 0.99\n",
      "avg metrics : (0.994482002558012, 0.9882564312010084, 0.9012396569983718, 0.9950778072000057, 0.9422194082415722)\n",
      "Epoch: 20 \t Training Loss: 0.023497\n",
      "Epoch: 20 \t Validation f: 0.92, acc: 0.99\n",
      "avg metrics : (0.9940983007491322, 0.9880202792109793, 0.9001905980687764, 0.993788984328129, 0.9390822242962343)\n"
     ]
    }
   ],
   "source": [
    "train_ecg.train(cnetmodel, train_loader, val_loader, 20, criterion, optimizer) # NUM_EPOCHS\n"
   ]
  },
  {
   "cell_type": "code",
   "execution_count": 10,
   "metadata": {},
   "outputs": [],
   "source": [
    "torch.save(cnetmodel.state_dict(), \"cnetmodele20\")"
   ]
  },
  {
   "cell_type": "code",
   "execution_count": null,
   "metadata": {},
   "outputs": [],
   "source": [
    "embeds,y = analysis.get_embeddings(cnetmodel, train_loader)\n",
    "coordinates = analysis.get_embeddings(embeds)\n",
    "analysis.plot_tsne(coordinates, y, 5)"
   ]
  }
 ],
 "metadata": {
  "kernelspec": {
   "display_name": "Python 3",
   "language": "python",
   "name": "python3"
  },
  "language_info": {
   "codemirror_mode": {
    "name": "ipython",
    "version": 3
   },
   "file_extension": ".py",
   "mimetype": "text/x-python",
   "name": "python",
   "nbconvert_exporter": "python",
   "pygments_lexer": "ipython3",
   "version": "3.8.5"
  }
 },
 "nbformat": 4,
 "nbformat_minor": 4
}
