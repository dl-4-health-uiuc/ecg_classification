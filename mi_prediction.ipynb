{
 "cells": [
  {
   "cell_type": "code",
   "execution_count": 6,
   "metadata": {},
   "outputs": [],
   "source": [
    "import pandas as pd\n",
    "import numpy as np\n",
    "import torch\n",
    "import torch.nn as nn\n",
    "import torch.nn.functional as F\n",
    "from sklearn.metrics import f1_score, accuracy_score, confusion_matrix, multilabel_confusion_matrix\n",
    "import models\n",
    "import process_data\n",
    "import analysis\n",
    "import train_mi"
   ]
  },
  {
   "cell_type": "code",
   "execution_count": 7,
   "metadata": {},
   "outputs": [],
   "source": [
    "#setup\n",
    "BATCH_SIZE = 200\n",
    "LEARNING_RATE = 0.0005\n",
    "NUM_EPOCHS = 25\n",
    "device ='cpu'\n",
    "device_count = 0\n",
    "device = torch.device('cuda' if torch.cuda.is_available() else 'cpu')\n",
    "device_count = torch.cuda.device_count()\n"
   ]
  },
  {
   "cell_type": "code",
   "execution_count": 8,
   "metadata": {},
   "outputs": [
    {
     "data": {
      "text/plain": [
       "<All keys matched successfully>"
      ]
     },
     "execution_count": 8,
     "metadata": {},
     "output_type": "execute_result"
    }
   ],
   "source": [
    "cnetmodel1 = models.get_model(\"cnet\")\n",
    "cnetmodel1.load_state_dict(torch.load(\"cnetmodele20\"))"
   ]
  },
  {
   "cell_type": "code",
   "execution_count": 9,
   "metadata": {},
   "outputs": [],
   "source": [
    "mimodel = models.transfer_model(cnetmodel1, freeze_params=False)"
   ]
  },
  {
   "cell_type": "code",
   "execution_count": 10,
   "metadata": {},
   "outputs": [],
   "source": [
    "train_loadermi, val_loadermi = process_data.load_data_mi(batch_size=BATCH_SIZE)"
   ]
  },
  {
   "cell_type": "code",
   "execution_count": 11,
   "metadata": {},
   "outputs": [],
   "source": [
    "criterion1 = nn.BCELoss()\n",
    "optimizer1 = torch.optim.Adam(mimodel.parameters(), lr=0.001)\n"
   ]
  },
  {
   "cell_type": "code",
   "execution_count": 12,
   "metadata": {},
   "outputs": [
    {
     "name": "stdout",
     "output_type": "stream",
     "text": [
      "Epoch: 1 \t Training Loss: 0.411193\n",
      "Epoch: 1 \t Validation f: 0.8083, acc: 0.8660\n",
      "[[ 462  347]\n",
      " [  43 2059]]\n",
      "Epoch: 2 \t Training Loss: 0.230880\n",
      "Epoch: 2 \t Validation f: 0.9185, acc: 0.9358\n",
      "[[ 692  117]\n",
      " [  70 2032]]\n",
      "Epoch: 3 \t Training Loss: 0.133429\n",
      "Epoch: 3 \t Validation f: 0.9504, acc: 0.9605\n",
      "[[ 741   68]\n",
      " [  47 2055]]\n",
      "Epoch: 4 \t Training Loss: 0.083579\n",
      "Epoch: 4 \t Validation f: 0.9547, acc: 0.9626\n",
      "[[ 795   14]\n",
      " [  95 2007]]\n",
      "Epoch: 5 \t Training Loss: 0.056129\n",
      "Epoch: 5 \t Validation f: 0.9771, acc: 0.9818\n",
      "[[ 772   37]\n",
      " [  16 2086]]\n",
      "Epoch: 6 \t Training Loss: 0.051705\n",
      "Epoch: 6 \t Validation f: 0.9588, acc: 0.9681\n",
      "[[ 719   90]\n",
      " [   3 2099]]\n",
      "Epoch: 7 \t Training Loss: 0.042838\n",
      "Epoch: 7 \t Validation f: 0.9698, acc: 0.9753\n",
      "[[ 799   10]\n",
      " [  62 2040]]\n",
      "Epoch: 8 \t Training Loss: 0.031849\n",
      "Epoch: 8 \t Validation f: 0.9858, acc: 0.9887\n",
      "[[ 783   26]\n",
      " [   7 2095]]\n",
      "Epoch: 9 \t Training Loss: 0.025558\n",
      "Epoch: 9 \t Validation f: 0.9545, acc: 0.9650\n",
      "[[ 707  102]\n",
      " [   0 2102]]\n",
      "Epoch: 10 \t Training Loss: 0.027103\n",
      "Epoch: 10 \t Validation f: 0.9846, acc: 0.9876\n",
      "[[ 790   19]\n",
      " [  17 2085]]\n",
      "Epoch: 11 \t Training Loss: 0.023522\n",
      "Epoch: 11 \t Validation f: 0.9553, acc: 0.9646\n",
      "[[ 739   70]\n",
      " [  33 2069]]\n",
      "Epoch: 12 \t Training Loss: 0.032344\n",
      "Epoch: 12 \t Validation f: 0.9906, acc: 0.9924\n",
      "[[ 794   15]\n",
      " [   7 2095]]\n",
      "Epoch: 13 \t Training Loss: 0.011874\n",
      "Epoch: 13 \t Validation f: 0.9914, acc: 0.9931\n",
      "[[ 796   13]\n",
      " [   7 2095]]\n",
      "Epoch: 14 \t Training Loss: 0.005578\n",
      "Epoch: 14 \t Validation f: 0.9889, acc: 0.9911\n",
      "[[ 802    7]\n",
      " [  19 2083]]\n",
      "Epoch: 15 \t Training Loss: 0.010756\n",
      "Epoch: 15 \t Validation f: 0.9880, acc: 0.9904\n",
      "[[ 794   15]\n",
      " [  13 2089]]\n",
      "Epoch: 16 \t Training Loss: 0.008845\n",
      "Epoch: 16 \t Validation f: 0.9927, acc: 0.9942\n",
      "[[ 799   10]\n",
      " [   7 2095]]\n",
      "Epoch: 17 \t Training Loss: 0.014252\n",
      "Epoch: 17 \t Validation f: 0.9810, acc: 0.9849\n",
      "[[ 778   31]\n",
      " [  13 2089]]\n",
      "Epoch: 18 \t Training Loss: 0.012847\n",
      "Epoch: 18 \t Validation f: 0.9880, acc: 0.9904\n",
      "[[ 789   20]\n",
      " [   8 2094]]\n",
      "Epoch: 19 \t Training Loss: 0.008296\n",
      "Epoch: 19 \t Validation f: 0.9923, acc: 0.9938\n",
      "[[ 799   10]\n",
      " [   8 2094]]\n",
      "Epoch: 20 \t Training Loss: 0.013330\n",
      "Epoch: 20 \t Validation f: 0.9798, acc: 0.9839\n",
      "[[ 780   29]\n",
      " [  18 2084]]\n"
     ]
    }
   ],
   "source": [
    "train_mi.train(mimodel, train_loadermi, val_loadermi, 20, criterion1, optimizer1)"
   ]
  },
  {
   "cell_type": "code",
   "execution_count": 37,
   "metadata": {},
   "outputs": [
    {
     "data": {
      "text/plain": [
       "0.9495018893850911"
      ]
     },
     "execution_count": 37,
     "metadata": {},
     "output_type": "execute_result"
    }
   ],
   "source": [
    "(2040+724)/(2040+724+85+62)"
   ]
  },
  {
   "cell_type": "code",
   "execution_count": null,
   "metadata": {},
   "outputs": [],
   "source": []
  }
 ],
 "metadata": {
  "kernelspec": {
   "display_name": "Python 3",
   "language": "python",
   "name": "python3"
  },
  "language_info": {
   "codemirror_mode": {
    "name": "ipython",
    "version": 3
   },
   "file_extension": ".py",
   "mimetype": "text/x-python",
   "name": "python",
   "nbconvert_exporter": "python",
   "pygments_lexer": "ipython3",
   "version": "3.8.5"
  }
 },
 "nbformat": 4,
 "nbformat_minor": 4
}
